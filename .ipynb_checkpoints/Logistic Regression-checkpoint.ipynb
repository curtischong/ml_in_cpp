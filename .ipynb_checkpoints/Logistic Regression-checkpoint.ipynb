{
 "cells": [
  {
   "cell_type": "code",
   "execution_count": 1,
   "metadata": {},
   "outputs": [
    {
     "data": {
      "text/html": [
       "<div>\n",
       "<style scoped>\n",
       "    .dataframe tbody tr th:only-of-type {\n",
       "        vertical-align: middle;\n",
       "    }\n",
       "\n",
       "    .dataframe tbody tr th {\n",
       "        vertical-align: top;\n",
       "    }\n",
       "\n",
       "    .dataframe thead th {\n",
       "        text-align: right;\n",
       "    }\n",
       "</style>\n",
       "<table border=\"1\" class=\"dataframe\">\n",
       "  <thead>\n",
       "    <tr style=\"text-align: right;\">\n",
       "      <th></th>\n",
       "      <th>sepal_l</th>\n",
       "      <th>sepal_w</th>\n",
       "      <th>petal_l</th>\n",
       "      <th>petal_w</th>\n",
       "      <th>class</th>\n",
       "    </tr>\n",
       "  </thead>\n",
       "  <tbody>\n",
       "    <tr>\n",
       "      <th>0</th>\n",
       "      <td>5.1</td>\n",
       "      <td>3.5</td>\n",
       "      <td>1.4</td>\n",
       "      <td>0.2</td>\n",
       "      <td>Iris-setosa</td>\n",
       "    </tr>\n",
       "    <tr>\n",
       "      <th>1</th>\n",
       "      <td>4.9</td>\n",
       "      <td>3.0</td>\n",
       "      <td>1.4</td>\n",
       "      <td>0.2</td>\n",
       "      <td>Iris-setosa</td>\n",
       "    </tr>\n",
       "    <tr>\n",
       "      <th>2</th>\n",
       "      <td>4.7</td>\n",
       "      <td>3.2</td>\n",
       "      <td>1.3</td>\n",
       "      <td>0.2</td>\n",
       "      <td>Iris-setosa</td>\n",
       "    </tr>\n",
       "    <tr>\n",
       "      <th>3</th>\n",
       "      <td>4.6</td>\n",
       "      <td>3.1</td>\n",
       "      <td>1.5</td>\n",
       "      <td>0.2</td>\n",
       "      <td>Iris-setosa</td>\n",
       "    </tr>\n",
       "    <tr>\n",
       "      <th>4</th>\n",
       "      <td>5.0</td>\n",
       "      <td>3.6</td>\n",
       "      <td>1.4</td>\n",
       "      <td>0.2</td>\n",
       "      <td>Iris-setosa</td>\n",
       "    </tr>\n",
       "  </tbody>\n",
       "</table>\n",
       "</div>"
      ],
      "text/plain": [
       "   sepal_l  sepal_w  petal_l  petal_w        class\n",
       "0      5.1      3.5      1.4      0.2  Iris-setosa\n",
       "1      4.9      3.0      1.4      0.2  Iris-setosa\n",
       "2      4.7      3.2      1.3      0.2  Iris-setosa\n",
       "3      4.6      3.1      1.5      0.2  Iris-setosa\n",
       "4      5.0      3.6      1.4      0.2  Iris-setosa"
      ]
     },
     "execution_count": 1,
     "metadata": {},
     "output_type": "execute_result"
    }
   ],
   "source": [
    "#info on the iris dataset\n",
    "#https://archive.ics.uci.edu/ml/machine-learning-databases/iris/iris.names\n",
    "import pandas as pd\n",
    "import numpy as np\n",
    "%matplotlib inline\n",
    "data = pd.read_csv(\"datasets/iris.csv\",names=[\"sepal_l\",\"sepal_w\",\"petal_l\",\"petal_w\",\"class\"])\n",
    "data.head()"
   ]
  },
  {
   "cell_type": "code",
   "execution_count": 2,
   "metadata": {},
   "outputs": [
    {
     "name": "stdout",
     "output_type": "stream",
     "text": [
      "['Iris-setosa' 'Iris-versicolor' 'Iris-virginica']\n",
      "['Iris-versicolor' 'Iris-virginica']\n"
     ]
    }
   ],
   "source": [
    "print(data[\"class\"].unique())\n",
    "#let's keep things simple and only have a binary regressor\n",
    "data = data[data[\"class\"].map(lambda x: x != \"Iris-setosa\")]\n",
    "print(data[\"class\"].unique())"
   ]
  },
  {
   "cell_type": "code",
   "execution_count": 45,
   "metadata": {},
   "outputs": [],
   "source": [
    "#this was confusing me so much becaus eI haven't taken linear alg yet but matrix multiplication = dot product of matrix A and transpose(matrix B)\n",
    "def sigmoid(z):\n",
    "    return 1/(1+np.e**(-z))\n",
    "\n",
    "def log_likelyhood(weights,x,y):\n",
    "    scores = np.dot(x, weights)\n",
    "    ll = np.sum( y*scores - np.log(1 + np.exp(scores)) )\n",
    "    return ll\n",
    "\n",
    "def logistic_regression(x,y, num_steps = 1000, learning_rate = 0.1):\n",
    "    weights = np.zeros(x.shape[1])\n",
    "    for cur in range(num_steps):\n",
    "        scores = np.dot(x,weights)\n",
    "        preds = sigmoid(scores)\n",
    "        \n",
    "        #update weights\n",
    "        error = y - preds\n",
    "        gradient = np.dot(x.T,error)\n",
    "        weights += learning_rate*gradient\n",
    "        \n",
    "        if cur % (num_steps*0.1) == 0:\n",
    "            print(log_likelyhood(weights, x,y))\n",
    "    return weights"
   ]
  },
  {
   "cell_type": "code",
   "execution_count": 46,
   "metadata": {},
   "outputs": [],
   "source": [
    "def turn_num(x):\n",
    "    if x == \"Iris-versicolor\":\n",
    "        return 1\n",
    "    else:\n",
    "        return 0\n",
    "data[\"num_classes\"] = data[\"class\"].map(lambda x: turn_num(x))"
   ]
  },
  {
   "cell_type": "code",
   "execution_count": 48,
   "metadata": {},
   "outputs": [
    {
     "name": "stdout",
     "output_type": "stream",
     "text": [
      "-1358.434000001872\n",
      "-5151.0684251008\n",
      "-157.1109590592541\n",
      "-151.5621398578336\n",
      "-143.17704317265236\n",
      "-133.69008370637354\n",
      "-122.13471394901264\n",
      "-120.67661554920493\n",
      "-119.13461415955554\n",
      "-116.93209927399202\n"
     ]
    }
   ],
   "source": [
    "#just like sklearn the error should be maximized, aka the magnitude of the error gets smaller\n",
    "best_weights = logistic_regression(data[[\"sepal_l\",\"sepal_w\",\"petal_l\",\"petal_w\"]],data[\"num_classes\"])"
   ]
  },
  {
   "cell_type": "code",
   "execution_count": 55,
   "metadata": {},
   "outputs": [
    {
     "name": "stdout",
     "output_type": "stream",
     "text": [
      "[ 101.70281321   95.89560533 -141.60663026 -133.99254634]\n",
      "[[  2.4636824    6.67654931  -9.41722491 -18.27097495]]\n"
     ]
    }
   ],
   "source": [
    "from sklearn.linear_model import LogisticRegression\n",
    "clf = LogisticRegression(C = 1e15)\n",
    "clf.fit(data[[\"sepal_l\",\"sepal_w\",\"petal_l\",\"petal_w\"]],data[\"num_classes\"])\n",
    "print(best_weights)\n",
    "print(clf.coef_)"
   ]
  },
  {
   "cell_type": "code",
   "execution_count": 64,
   "metadata": {},
   "outputs": [],
   "source": [
    "final_scores = np.dot(data[[\"sepal_l\",\"sepal_w\",\"petal_l\",\"petal_w\"]], best_weights)\n",
    "preds = np.round(sigmoid(final_scores))"
   ]
  },
  {
   "cell_type": "code",
   "execution_count": 65,
   "metadata": {},
   "outputs": [
    {
     "data": {
      "text/plain": [
       "array([1., 1., 1., 1., 1., 1., 1., 1., 1., 1., 1., 1., 1., 1., 1., 1., 1.,\n",
       "       1., 1., 1., 0., 1., 0., 1., 1., 1., 1., 1., 1., 1., 1., 1., 1., 0.,\n",
       "       0., 1., 1., 1., 1., 1., 1., 1., 1., 1., 1., 1., 1., 1., 1., 1., 0.,\n",
       "       0., 0., 0., 0., 0., 0., 0., 0., 0., 0., 0., 0., 0., 0., 0., 0., 0.,\n",
       "       0., 0., 0., 0., 0., 0., 0., 0., 0., 0., 0., 0., 0., 0., 0., 0., 0.,\n",
       "       0., 0., 0., 0., 0., 0., 0., 0., 0., 0., 0., 0., 0., 0., 0.])"
      ]
     },
     "execution_count": 65,
     "metadata": {},
     "output_type": "execute_result"
    }
   ],
   "source": [
    "preds"
   ]
  },
  {
   "cell_type": "code",
   "execution_count": 70,
   "metadata": {},
   "outputs": [
    {
     "name": "stdout",
     "output_type": "stream",
     "text": [
      "my model: 0.96\n",
      "sklearn: 0.98\n"
     ]
    }
   ],
   "source": [
    "print(\"my model: \" + str((preds == data[\"num_classes\"]).sum().astype(float) / len(preds)))\n",
    "print(\"sklearn: \" + str(clf.score(data[[\"sepal_l\",\"sepal_w\",\"petal_l\",\"petal_w\"]], data[\"num_classes\"])))"
   ]
  }
 ],
 "metadata": {
  "kernelspec": {
   "display_name": "Python 3",
   "language": "python",
   "name": "python3"
  },
  "language_info": {
   "codemirror_mode": {
    "name": "ipython",
    "version": 3
   },
   "file_extension": ".py",
   "mimetype": "text/x-python",
   "name": "python",
   "nbconvert_exporter": "python",
   "pygments_lexer": "ipython3",
   "version": "3.6.5"
  }
 },
 "nbformat": 4,
 "nbformat_minor": 2
}
